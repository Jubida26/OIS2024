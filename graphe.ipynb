{
 "cells": [
  {
   "cell_type": "code",
   "execution_count": 10,
   "id": "51f1274a-57e1-4f8e-924a-1902143aba7b",
   "metadata": {
    "execution": {
     "iopub.execute_input": "2024-05-22T15:02:16.235283Z",
     "iopub.status.busy": "2024-05-22T15:02:16.229135Z",
     "iopub.status.idle": "2024-05-22T15:02:16.928446Z",
     "shell.execute_reply": "2024-05-22T15:02:16.925991Z"
    },
    "tags": []
   },
   "outputs": [
    {
     "name": "stderr",
     "output_type": "stream",
     "text": [
      "\u001b[1m\u001b[22mSaving 6.67 x 6.67 in image\n",
      "\u001b[1m\u001b[22m`geom_smooth()` using formula = 'y ~ x'\n"
     ]
    }
   ],
   "source": [
    "library(ggplot2)\n",
    "\n",
    "set.seed(123)\n",
    "data <- data.frame(\n",
    "  x = rnorm(100),\n",
    "  y = rnorm(100),\n",
    "  group = sample(letters[1:3], 100, replace = TRUE)\n",
    ")\n",
    "\n",
    "p <- ggplot(data, aes(x = x, y = y, color = group)) +\n",
    "  geom_point() +\n",
    "  geom_smooth(method = \"lm\", se = FALSE) +\n",
    "  theme_minimal() +\n",
    "  labs(\n",
    "    title = \"Graphique de dispersion avec régression linéaire\",\n",
    "    x = \"Variable X\",\n",
    "    y = \"Variable Y\",\n",
    "    color = \"Groupe\"\n",
    "  )\n",
    "\n",
    "ggsave(\"scatter_plot_with_regression.png\", plot = p)\n"
   ]
  },
  {
   "cell_type": "code",
   "execution_count": null,
   "id": "1bc16aae-f679-4d7c-ad1c-2638e64e2980",
   "metadata": {},
   "outputs": [],
   "source": []
  }
 ],
 "metadata": {
  "kernelspec": {
   "display_name": "R",
   "language": "R",
   "name": "ir"
  },
  "language_info": {
   "codemirror_mode": "r",
   "file_extension": ".r",
   "mimetype": "text/x-r-source",
   "name": "R",
   "pygments_lexer": "r",
   "version": "4.3.2"
  }
 },
 "nbformat": 4,
 "nbformat_minor": 5
}
